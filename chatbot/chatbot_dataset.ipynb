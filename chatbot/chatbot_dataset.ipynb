{
 "cells": [
  {
   "cell_type": "code",
   "execution_count": 1,
   "metadata": {},
   "outputs": [
    {
     "data": {
      "text/plain": [
       "'\\npip install SpeechRecognition pyttsx3 PyAudio \\n\\nif use Linux install this first\\n    sudo apt-get update\\n    sudo apt-get install portaudio19-dev\\n\\nif use MacOS:\\n    install brew --> brew install portaudio\\n'"
      ]
     },
     "execution_count": 1,
     "metadata": {},
     "output_type": "execute_result"
    }
   ],
   "source": [
    "\"\"\"\n",
    "pip install SpeechRecognition pyttsx3 PyAudio \n",
    "\n",
    "if use Linux install this first\n",
    "    sudo apt-get update\n",
    "    sudo apt-get install portaudio19-dev\n",
    "\n",
    "if use MacOS:\n",
    "    install brew --> brew install portaudio\n",
    "\"\"\""
   ]
  },
  {
   "cell_type": "code",
   "execution_count": 28,
   "metadata": {},
   "outputs": [],
   "source": [
    "import dataset\n",
    "import pandas as pd\n",
    "import re\n",
    "from datetime import date, datetime"
   ]
  },
  {
   "cell_type": "code",
   "execution_count": null,
   "metadata": {},
   "outputs": [
    {
     "name": "stderr",
     "output_type": "stream",
     "text": [
      "Creating json from Arrow format: 100%|██████████| 33/33 [00:01<00:00, 22.92ba/s]\n"
     ]
    }
   ],
   "source": [
    "access = \"pass your token here !!!\" \n",
    "url = \"lmsys/chatbot_arena_conversations\" # \"allenai/break_data\"\n",
    "pack = None # \"QDMR-high-level-lexicon\"\n",
    "mode = \"train\"\n",
    "output_json = 'tmp.json' #allenai.json\n",
    "data = dataset.load_data(access, url, pack, mode, output_json)"
   ]
  },
  {
   "cell_type": "code",
   "execution_count": 23,
   "metadata": {},
   "outputs": [
    {
     "name": "stdout",
     "output_type": "stream",
     "text": [
      "Model A won: 11744\n",
      "Model B won: 11550\n",
      "Tie: 3443\n"
     ]
    }
   ],
   "source": [
    "print(\"Model A won:\", data[data['winner'] == \"model_a\"].shape[0])\n",
    "print(\"Model B won:\", data[data['winner'] == \"model_b\"].shape[0])\n",
    "print(\"Tie:\", data[data['winner'] == \"tie\"].shape[0])"
   ]
  },
  {
   "cell_type": "code",
   "execution_count": 24,
   "metadata": {},
   "outputs": [
    {
     "data": {
      "text/plain": [
       "(np.int64(0), np.int64(0))"
      ]
     },
     "execution_count": 24,
     "metadata": {},
     "output_type": "execute_result"
    }
   ],
   "source": [
    "conservation_a = data.loc[data['winner'] == \"model_a\", 'conversation_a']\n",
    "conservation_b = data.loc[data['winner'] == \"model_b\", 'conversation_b']\n",
    "conservation_a.isnull().sum(), conservation_b.isnull().sum()"
   ]
  },
  {
   "cell_type": "code",
   "execution_count": 30,
   "metadata": {},
   "outputs": [],
   "source": [
    "question = []\n",
    "answer = []\n",
    "\n",
    "for i in range(len(conservation_a)):\n",
    "    cleaned_words = [re.sub(r'[^\\w\\s]', '', word) for word in conservation_a.iloc[i][0]['content'].split()]\n",
    "    result = ' '.join(cleaned_words)\n",
    "    question.append(result)\n",
    "    answer.append(conservation_a.iloc[i][1]['content'])\n",
    "\n",
    "for i in range(len(conservation_b)):\n",
    "    cleaned_words = [re.sub(r'[^\\w\\s]', '', word) for word in conservation_b.iloc[i][0]['content'].split()]\n",
    "    result = ' '.join(cleaned_words)\n",
    "    question.append(result)\n",
    "    answer.append(conservation_b.iloc[i][1]['content'])\n",
    "\n",
    "conservation = pd.DataFrame({\"question\": question, \"answer\": answer})"
   ]
  },
  {
   "cell_type": "code",
   "execution_count": 31,
   "metadata": {},
   "outputs": [],
   "source": [
    "def complile_question(question):\n",
    "    max_match = 0\n",
    "    # best_match_sentence = None\n",
    "    index = 0\n",
    "\n",
    "    if \"hi\" in question.lower():\n",
    "        str = \"Hi, may I help you?\"\n",
    "        return str\n",
    "    elif \"today\" in question.lower():\n",
    "        today = date.today()\n",
    "        today = today.strftime(\"%d/%m/%Y\")\n",
    "        return today\n",
    "    elif \"bye\" in question.lower():\n",
    "        str = \"See you again!\"\n",
    "        return str\n",
    "    elif \"time\" in question.lower():\n",
    "        now = datetime.now()\n",
    "        now = now.strftime(\"%H:%M:%S on %d/%m/%Y\")\n",
    "        return now\n",
    "    else:\n",
    "        matched_rows = conservation[conservation[\"question\"].str.lower() == question.lower()]\n",
    "        \n",
    "        if not matched_rows.empty:\n",
    "            print(matched_rows)\n",
    "        else:\n",
    "            for i, question_in_column in enumerate(conservation[\"question\"]):\n",
    "                current_match = 0\n",
    "                question_words = set(question.lower().split())\n",
    "                question_in_column_words = set(question_in_column.lower().split())\n",
    "                \n",
    "                for word in question_words:\n",
    "                    if word in question_in_column_words:\n",
    "                        current_match += question.lower().split().count(word)\n",
    "\n",
    "                if current_match > max_match:\n",
    "                    max_match = current_match\n",
    "                    # best_match_sentence = question_in_column\n",
    "                    index = i\n",
    "        return int(index)"
   ]
  },
  {
   "cell_type": "code",
   "execution_count": 33,
   "metadata": {},
   "outputs": [
    {
     "name": "stdout",
     "output_type": "stream",
     "text": [
      "1, 4, 7, 10\n",
      "\n",
      "Counting with a step of 3 means that you will increase the number by 3 each time. So, the first number is 1, the next is 4 (1 + 3), the next is 7 (4 + 3), and so on.\n"
     ]
    }
   ],
   "source": [
    "question = input(\"Type here: \")\n",
    "response = complile_question(question)\n",
    "\n",
    "if isinstance(response, int):\n",
    "    robot = conservation['answer'][response]\n",
    "    print(robot)\n",
    "else:\n",
    "    print(response)"
   ]
  }
 ],
 "metadata": {
  "kernelspec": {
   "display_name": "base",
   "language": "python",
   "name": "python3"
  },
  "language_info": {
   "codemirror_mode": {
    "name": "ipython",
    "version": 3
   },
   "file_extension": ".py",
   "mimetype": "text/x-python",
   "name": "python",
   "nbconvert_exporter": "python",
   "pygments_lexer": "ipython3",
   "version": "3.12.2"
  }
 },
 "nbformat": 4,
 "nbformat_minor": 2
}
