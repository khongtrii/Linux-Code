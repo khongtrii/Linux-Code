{
 "cells": [
  {
   "cell_type": "code",
   "execution_count": 20,
   "metadata": {},
   "outputs": [],
   "source": [
    "import pandas as pd\n",
    "from transformers import T5ForConditionalGeneration, T5Tokenizer"
   ]
  },
  {
   "cell_type": "code",
   "execution_count": 21,
   "metadata": {},
   "outputs": [],
   "source": [
    "def take_question(url: str):\n",
    "    data = pd.read_csv(url, sep='\\t', encoding='ISO-8859-1')\n",
    "    data.dropna(inplace=True)\n",
    "    data.drop_duplicates(inplace=True)\n",
    "    print(f\"{data.isnull().sum()}\\n\")\n",
    "    print(f\"Data has {data.columns[0:-1]}\")\n",
    "    return data.reset_index(drop=True)"
   ]
  },
  {
   "cell_type": "code",
   "execution_count": 22,
   "metadata": {},
   "outputs": [],
   "source": [
    "def take_answer(url: str):\n",
    "    chars = \"\"\n",
    "    with open(url, \"r\", encoding='ISO-8859-1') as f:\n",
    "        text = f.read()\n",
    "    data = pd.DataFrame(text.split('\\n'), columns=['text'])\n",
    "    data = data[data['text']!='']\n",
    "    data.drop_duplicates(inplace=True)\n",
    "    data = data.reset_index(drop=True)\n",
    "    data = data.to_dict(orient=\"list\")\n",
    "    # data = \" \".join(data['text'])\n",
    "    return data"
   ]
  },
  {
   "cell_type": "code",
   "execution_count": 23,
   "metadata": {},
   "outputs": [],
   "source": [
    "def check_my_question(data_question, myquestion: str):\n",
    "    max_match = 0\n",
    "    best_match_sentence = None\n",
    "    index = 0\n",
    "    question = data_question\n",
    "    matched_rows = question[question['Question'].str.lower() == myquestion.lower()]\n",
    "    if not matched_rows.empty:\n",
    "        print(matched_rows)\n",
    "    else:\n",
    "        for i, question_in_column in enumerate(question['Question']):\n",
    "\n",
    "            current_match = 0\n",
    "            question_words = set(myquestion.lower().split())\n",
    "            question_in_column_words = set(question_in_column.lower().split())\n",
    "\n",
    "            for word in question_words:\n",
    "                if word in question_in_column_words:\n",
    "                    current_match += myquestion.lower().split().count(word)\n",
    "\n",
    "            if current_match > max_match:\n",
    "                max_match = current_match\n",
    "                best_match_sentence = question_in_column\n",
    "                index = i\n",
    "    return best_match_sentence, index"
   ]
  },
  {
   "cell_type": "code",
   "execution_count": 24,
   "metadata": {},
   "outputs": [],
   "source": [
    "def create_context_from_index_question(data_question, index):\n",
    "    question = data_question\n",
    "    back_url = question['ArticleFile'][index]\n",
    "    url = f\"./data/S08/{back_url}.txt\"\n",
    "    context = take_answer(url)\n",
    "    return context"
   ]
  },
  {
   "cell_type": "code",
   "execution_count": 25,
   "metadata": {},
   "outputs": [],
   "source": [
    "def answer_my_question(myquestion, context):\n",
    "    model = T5ForConditionalGeneration.from_pretrained('t5-base')\n",
    "    tokenizer = T5Tokenizer.from_pretrained('t5-base')\n",
    "    \n",
    "    myquestion = myquestion\n",
    "    context = context\n",
    "\n",
    "    input_text = f\"question: {myquestion} context: {context}\"\n",
    "\n",
    "    inputs = tokenizer.encode(input_text, return_tensors=\"pt\")\n",
    "\n",
    "    outputs = model.generate(inputs, max_length=50)\n",
    "\n",
    "    answer = tokenizer.decode(outputs[0], skip_special_tokens=True)\n",
    "    print(f\"Answer: {answer}\")"
   ]
  },
  {
   "cell_type": "code",
   "execution_count": 52,
   "metadata": {},
   "outputs": [
    {
     "name": "stdout",
     "output_type": "stream",
     "text": [
      "ArticleTitle                0\n",
      "Question                    0\n",
      "Answer                      0\n",
      "DifficultyFromQuestioner    0\n",
      "DifficultyFromAnswerer      0\n",
      "ArticleFile                 0\n",
      "dtype: int64\n",
      "\n",
      "Data has Index(['ArticleTitle', 'Question', 'Answer', 'DifficultyFromQuestioner',\n",
      "       'DifficultyFromAnswerer'],\n",
      "      dtype='object')\n"
     ]
    }
   ],
   "source": [
    "question = take_question('./data/S08/question_answer_pairs.txt')\n",
    "myquestion = \"he managed his own reelection in the\"\n",
    "best_match_sentence, index = check_my_question(question, myquestion)\n",
    "context = create_context_from_index_question(question, index)\n",
    "# answer_my_question(myquestion, context)"
   ]
  },
  {
   "cell_type": "code",
   "execution_count": 53,
   "metadata": {},
   "outputs": [
    {
     "data": {
      "text/plain": [
       "'Adams, a sponsor of the American Revolution in Massachusetts, was a driving force for independence in 1776; Jefferson called him the \"Colossus of Independence\". He represented the Continental Congress in Europe. He was a major negotiator of the eventual peace treaty with Great Britain, and chiefly responsible for obtaining the loans from the Amsterdam money market necessary for the conduct of the Revolution. His prestige secured his two elections as Washington\\'s Vice President and his election to succeed him.   As President, he was frustrated by battles inside his own Federalist party against a faction led by Alexander Hamilton, but he broke with them to avert a major conflict with France in 1798, during the Quasi-War crisis. He became the founder of an important family of politicians, diplomats and historians, and in recent years his reputation has improved.'"
      ]
     },
     "execution_count": 53,
     "metadata": {},
     "output_type": "execute_result"
    }
   ],
   "source": [
    "context['text'][2]"
   ]
  },
  {
   "cell_type": "code",
   "execution_count": 50,
   "metadata": {},
   "outputs": [
    {
     "name": "stdout",
     "output_type": "stream",
     "text": [
      "Answer: Lincoln closely supervised the victorious war effort, especially the selection of top generals, including Ulysses S. Grant\n"
     ]
    }
   ],
   "source": [
    "answer_my_question(myquestion, context['text'][2])"
   ]
  }
 ],
 "metadata": {
  "kernelspec": {
   "display_name": "base",
   "language": "python",
   "name": "python3"
  },
  "language_info": {
   "codemirror_mode": {
    "name": "ipython",
    "version": 3
   },
   "file_extension": ".py",
   "mimetype": "text/x-python",
   "name": "python",
   "nbconvert_exporter": "python",
   "pygments_lexer": "ipython3",
   "version": "3.12.2"
  }
 },
 "nbformat": 4,
 "nbformat_minor": 2
}
